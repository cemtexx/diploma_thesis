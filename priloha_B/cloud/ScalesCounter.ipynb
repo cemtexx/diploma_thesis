{
  "cells": [
    {
      "cell_type": "code",
      "execution_count": null,
      "metadata": {
        "id": "Rq0isR8hv94B"
      },
      "outputs": [],
      "source": [
        "# install some additional libraries (ignore warning)\n",
        "!pip install rawpy\n",
        "!pip install psd_tools\n",
        "!pip install opencv-contrib-python==3.4.13.47 --force-reinstall"
      ]
    },
    {
      "cell_type": "code",
      "execution_count": null,
      "metadata": {
        "id": "uQMZ45gcrFFa"
      },
      "outputs": [],
      "source": [
        "# mount google drive and load program files\n",
        "import sys\n",
        "from google.colab import drive\n",
        "drive.mount('/content/drive')\n",
        "\n",
        "sys.path.append('/content/drive/MyDrive/ScalesCounter')\n",
        "import main_program"
      ]
    },
    {
      "cell_type": "code",
      "execution_count": null,
      "metadata": {
        "id": "GiAPCvOzqMJm"
      },
      "outputs": [],
      "source": [
        "# configure program variables\n",
        "IMAGE_OUTPUT = True\n",
        "FINISH_UP = False # False or job name as: '2021-09-10_12h34m20s'\n",
        "\n",
        "INPUT_FOLDER = '/content/drive/MyDrive/ScalesCounter/images_input'\n",
        "OUTPUT_FOLDER = '/content/drive/MyDrive/ScalesCounter/images_output'\n",
        "\n",
        "YOLO_CONFIG_FILE = '/content/drive/MyDrive/ScalesCounter/yolov4-custom.cfg'\n",
        "\n",
        "YOLO_WEIGHTS_FILE = '/content/drive/MyDrive/ScalesCounter/models/yolov4_model_name.weights'\n",
        "FIRST_MODEL_PATH = '/content/drive/MyDrive/ScalesCounter/models/unet_model_one.h5'\n",
        "SECOND_MODEL_PATH = '/content/drive/MyDrive/ScalesCounter/models/unet_model_two.h5'\n",
        "THIRD_MODEL_PATH = '/content/drive/MyDrive/ScalesCounter/models/unet_model_three.h5'\n",
        "\n",
        "TEMPORARY_IMAGE = 'temp_im.png'\n",
        "\n",
        "CONFIDENCE_THRESHOLD = 0.18\n",
        "ENLARGE_BODY = 1.42\n",
        "CUT_SIZE = 512\n",
        "\n",
        "LOCAL_FILTER = 7\n",
        "MINIMUM_DISTANCE = 2\n",
        "TM = 0.1\n",
        "MAXIMUM_SCALES = 35\n",
        "MINIMUM_SCALES = 26"
      ]
    },
    {
      "cell_type": "code",
      "execution_count": null,
      "metadata": {
        "id": "vUNOZHXrwuRk"
      },
      "outputs": [],
      "source": [
        "# run program\n",
        "main_program.run(FINISH_UP, IMAGE_OUTPUT, INPUT_FOLDER, OUTPUT_FOLDER, YOLO_CONFIG_FILE, YOLO_WEIGHTS_FILE, FIRST_MODEL_PATH, SECOND_MODEL_PATH, THIRD_MODEL_PATH, TEMPORARY_IMAGE, CONFIDENCE_THRESHOLD, ENLARGE_BODY, CUT_SIZE, LOCAL_FILTER, MINIMUM_DISTANCE, TM, MAXIMUM_SCALES, MINIMUM_SCALES)"
      ]
    }
  ],
  "metadata": {
    "accelerator": "GPU",
    "colab": {
      "collapsed_sections": [],
      "name": "ScalesCounter.ipynb",
      "provenance": []
    },
    "kernelspec": {
      "display_name": "Python 3",
      "name": "python3"
    },
    "language_info": {
      "name": "python"
    }
  },
  "nbformat": 4,
  "nbformat_minor": 0
}
